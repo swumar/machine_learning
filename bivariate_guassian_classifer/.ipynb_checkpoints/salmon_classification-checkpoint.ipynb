{
 "cells": [
  {
   "cell_type": "markdown",
   "metadata": {},
   "source": [
    "# Salmon classification with the bivariate Gaussian\n",
    "\n",
    "In this assigment, you will predict if a fish is an 'Alaskan' salmon or a 'Canadian' salmon.\n",
    "\n",
    "The algorithm you will use a generative algorithm.  Where you model each class as a **bivariate Gaussian**."
   ]
  },
  {
   "cell_type": "markdown",
   "metadata": {},
   "source": [
    "## Step 0. Import statements\n",
    "\n",
    "The Python programming language, as most programming languages, is augmented by **modules**.  These modules contain functions and classes for specialized tasks needed in machine learning.\n",
    "\n",
    "Below, we will `import` three modules:\n",
    "* **pandas**\n",
    "* **numpy**\n",
    "* **matplotlib.pyplot**\n",
    "\n",
    "Note that we imported these modules using **aliases**"
   ]
  },
  {
   "cell_type": "code",
   "execution_count": 172,
   "metadata": {},
   "outputs": [],
   "source": [
    "# Standard libraries\n",
    "%matplotlib inline\n",
    "import pandas as pd\n",
    "import numpy as np # for better array operations\n",
    "import matplotlib.pyplot as plt # plotting utilities \n",
    "\n",
    "# Module computing the Gaussian density\n",
    "from scipy.stats import norm, multivariate_normal \n"
   ]
  },
  {
   "cell_type": "markdown",
   "metadata": {},
   "source": [
    "## Step 1. Data preparation: loading, understanding and cleaning the dataset"
   ]
  },
  {
   "cell_type": "markdown",
   "metadata": {},
   "source": [
    "### Importing the dataset\n",
    "Make sure the file `Salmon_dataset.csv` is in the same directory as this notebook.\n",
    "\n",
    "The dataset contains 100  examples, each example has 3 features (*gender, Freshwater, marine*) and a label (*Alaskan, Canadian*)."
   ]
  },
  {
   "cell_type": "code",
   "execution_count": 173,
   "metadata": {},
   "outputs": [
    {
     "data": {
      "text/html": [
       "<div>\n",
       "<style scoped>\n",
       "    .dataframe tbody tr th:only-of-type {\n",
       "        vertical-align: middle;\n",
       "    }\n",
       "\n",
       "    .dataframe tbody tr th {\n",
       "        vertical-align: top;\n",
       "    }\n",
       "\n",
       "    .dataframe thead th {\n",
       "        text-align: right;\n",
       "    }\n",
       "</style>\n",
       "<table border=\"1\" class=\"dataframe\">\n",
       "  <thead>\n",
       "    <tr style=\"text-align: right;\">\n",
       "      <th></th>\n",
       "      <th>Gender</th>\n",
       "      <th>Freshwater</th>\n",
       "      <th>Marine</th>\n",
       "      <th>Origin</th>\n",
       "    </tr>\n",
       "  </thead>\n",
       "  <tbody>\n",
       "    <tr>\n",
       "      <th>0</th>\n",
       "      <td>2</td>\n",
       "      <td>108</td>\n",
       "      <td>368</td>\n",
       "      <td>Alaskan</td>\n",
       "    </tr>\n",
       "    <tr>\n",
       "      <th>1</th>\n",
       "      <td>1</td>\n",
       "      <td>131</td>\n",
       "      <td>355</td>\n",
       "      <td>Alaskan</td>\n",
       "    </tr>\n",
       "    <tr>\n",
       "      <th>2</th>\n",
       "      <td>1</td>\n",
       "      <td>105</td>\n",
       "      <td>469</td>\n",
       "      <td>Alaskan</td>\n",
       "    </tr>\n",
       "    <tr>\n",
       "      <th>3</th>\n",
       "      <td>2</td>\n",
       "      <td>86</td>\n",
       "      <td>506</td>\n",
       "      <td>Alaskan</td>\n",
       "    </tr>\n",
       "    <tr>\n",
       "      <th>4</th>\n",
       "      <td>1</td>\n",
       "      <td>99</td>\n",
       "      <td>402</td>\n",
       "      <td>Alaskan</td>\n",
       "    </tr>\n",
       "  </tbody>\n",
       "</table>\n",
       "</div>"
      ],
      "text/plain": [
       "   Gender  Freshwater  Marine   Origin\n",
       "0       2         108     368  Alaskan\n",
       "1       1         131     355  Alaskan\n",
       "2       1         105     469  Alaskan\n",
       "3       2          86     506  Alaskan\n",
       "4       1          99     402  Alaskan"
      ]
     },
     "execution_count": 173,
     "metadata": {},
     "output_type": "execute_result"
    }
   ],
   "source": [
    "# Loading the data set using Panda's in a dataframe \n",
    "\n",
    "df = pd.read_csv('salmon_dataset.csv', delimiter=',') \n",
    "\n",
    "#Lets check that everything worked before continuing on\n",
    "df.head()"
   ]
  },
  {
   "cell_type": "markdown",
   "metadata": {},
   "source": [
    "### Data preprocesssing\n",
    "We will change the labels 'Alaskan' and 'Canadian' to $0$ and $1$ respectively.  In our code it is easier to work with numerical values instead of strings.\n",
    "\n",
    "Often we will do more dataprepocessing, such as looking for missing values and scaling the data though that is NOT required for this assignment yet. "
   ]
  },
  {
   "cell_type": "code",
   "execution_count": 174,
   "metadata": {},
   "outputs": [
    {
     "data": {
      "text/html": [
       "<div>\n",
       "<style scoped>\n",
       "    .dataframe tbody tr th:only-of-type {\n",
       "        vertical-align: middle;\n",
       "    }\n",
       "\n",
       "    .dataframe tbody tr th {\n",
       "        vertical-align: top;\n",
       "    }\n",
       "\n",
       "    .dataframe thead th {\n",
       "        text-align: right;\n",
       "    }\n",
       "</style>\n",
       "<table border=\"1\" class=\"dataframe\">\n",
       "  <thead>\n",
       "    <tr style=\"text-align: right;\">\n",
       "      <th></th>\n",
       "      <th>Gender</th>\n",
       "      <th>Freshwater</th>\n",
       "      <th>Marine</th>\n",
       "      <th>Origin</th>\n",
       "    </tr>\n",
       "  </thead>\n",
       "  <tbody>\n",
       "    <tr>\n",
       "      <th>0</th>\n",
       "      <td>2</td>\n",
       "      <td>108</td>\n",
       "      <td>368</td>\n",
       "      <td>0</td>\n",
       "    </tr>\n",
       "    <tr>\n",
       "      <th>1</th>\n",
       "      <td>1</td>\n",
       "      <td>131</td>\n",
       "      <td>355</td>\n",
       "      <td>0</td>\n",
       "    </tr>\n",
       "    <tr>\n",
       "      <th>2</th>\n",
       "      <td>1</td>\n",
       "      <td>105</td>\n",
       "      <td>469</td>\n",
       "      <td>0</td>\n",
       "    </tr>\n",
       "    <tr>\n",
       "      <th>3</th>\n",
       "      <td>2</td>\n",
       "      <td>86</td>\n",
       "      <td>506</td>\n",
       "      <td>0</td>\n",
       "    </tr>\n",
       "    <tr>\n",
       "      <th>4</th>\n",
       "      <td>1</td>\n",
       "      <td>99</td>\n",
       "      <td>402</td>\n",
       "      <td>0</td>\n",
       "    </tr>\n",
       "  </tbody>\n",
       "</table>\n",
       "</div>"
      ],
      "text/plain": [
       "   Gender  Freshwater  Marine  Origin\n",
       "0       2         108     368       0\n",
       "1       1         131     355       0\n",
       "2       1         105     469       0\n",
       "3       2          86     506       0\n",
       "4       1          99     402       0"
      ]
     },
     "execution_count": 174,
     "metadata": {},
     "output_type": "execute_result"
    }
   ],
   "source": [
    "# It is easier to work with the data if the labels are integers\n",
    "# Changing the 'Origin' column values, map 'Alaskan':0 and 'Canadian':1\n",
    "df['Origin']=df.Origin.map({'Alaskan':0, 'Canadian':1})\n",
    "\n",
    "#Lets check that everything worked before continuing on\n",
    "df.head()"
   ]
  },
  {
   "cell_type": "code",
   "execution_count": 175,
   "metadata": {},
   "outputs": [],
   "source": [
    "# We will store the dataframe as a Numpy array\n",
    "data = df.to_numpy() \n",
    "\n",
    "# Split the examples into a training set (trainx, trainy) and test set (testx, testy) \n",
    "\n",
    "########## TO DO ##########\n",
    "n =  data.shape[0] # the number of rows\n",
    "train_n = int(.9*n) # this test set is a bit small to really evaluate our hypothesis - what could we do to get a better estimate and still keep most of the data to estimate our parameters?\n",
    "np.random.seed(0) # Our code randomly chooses which examples will be the training data, but for grading purposes we want the random numbers used to seperate the data are the same for everyone\n",
    "perm = np.random.permutation(n)\n",
    "trainx = data[perm[0:train_n],1:3] #selecting the two of the features `Freshwater' and 'Marine'\n",
    "trainy = data[perm[0:train_n],3]\n",
    "testx = data[perm[train_n:n], 1:3] # We won't look at the testx data until it is time to evauate our hypothesis.  This numpy array contains the set of test data for the assignment\n",
    "testy = data[perm[train_n:n],3]\n",
    "\n",
    "##########\n"
   ]
  },
  {
   "cell_type": "markdown",
   "metadata": {},
   "source": [
    "### Plotting the dataset\n",
    "Visualization can be helpful when exploring and getting to know a dataset."
   ]
  },
  {
   "cell_type": "code",
   "execution_count": 176,
   "metadata": {},
   "outputs": [
    {
     "data": {
      "text/plain": [
       "[<matplotlib.lines.Line2D at 0x12f88f950>]"
      ]
     },
     "execution_count": 176,
     "metadata": {},
     "output_type": "execute_result"
    },
    {
     "data": {
      "image/png": "[encoded data removed]",
      "text/plain": [
       "<Figure size 432x288 with 1 Axes>"
      ]
     },
     "metadata": {
      "needs_background": "light"
     },
     "output_type": "display_data"
    }
   ],
   "source": [
    "# plotting the Alaskan salmon as a green dot\n",
    "plt.plot(trainx[trainy==0,0], trainx[trainy==0,1], marker='o', ls='None', c='g')\n",
    "# plotting the Canadian salmon as a red dot\n",
    "plt.plot(trainx[trainy==1,0], trainx[trainy==1,1], marker='o', ls='None', c='r')"
   ]
  },
  {
   "cell_type": "markdown",
   "metadata": {},
   "source": [
    "## Step 2. Model training: implementing Gaussian Discriminant Analysis\n",
    "\n",
    "\n"
   ]
  },
  {
   "cell_type": "markdown",
   "metadata": {},
   "source": [
    "###  Sufficient statistics\n",
    "\n",
    "Just as if we were doing these calculations by hand, we break the process down into managable pieces\n",
    "\n",
    "Our first helper function will find the mean and covariance of the Gaussian for a set of examples"
   ]
  },
  {
   "cell_type": "code",
   "execution_count": 177,
   "metadata": {},
   "outputs": [],
   "source": [
    "# Input: a design matrix\n",
    "# Output: a numpy array containing the means for each feature, and a 2-dimensional numpy array containng the covariance matrix sigma\n",
    "def fit_gaussian(x):\n",
    "########## TO DO ##########\n",
    "    mu = np.average(x,axis = 0)\n",
    "    a = x[:,0]\n",
    "    b = x[:,1]\n",
    "    sigma = np.cov(a, b, bias=True)\n",
    "    return mu, sigma \n",
    "##########"
   ]
  },
  {
   "cell_type": "markdown",
   "metadata": {},
   "source": [
    "\n",
    "Before moving on, test your code to make sure it works correctly.  \n",
    "\n",
    "\n"
   ]
  },
  {
   "cell_type": "markdown",
   "metadata": {},
   "source": [
    "### Write the rest of your code here"
   ]
  },
  {
   "cell_type": "code",
   "execution_count": 178,
   "metadata": {},
   "outputs": [],
   "source": [
    "def classify(x,mu1,sigma1):\n",
    "    \n",
    "    a = (x - mu1).reshape(2,1)\n",
    "    b = np.transpose(a)\n",
    "    c = np.linalg.inv(sigma1)\n",
    "    d = np.dot(b , c)\n",
    "    e = np.dot(d , a) * (-1/2)\n",
    "    f = np.exp(e)\n",
    "    g = np.linalg.det(sigma1)\n",
    "    h = np.sqrt(g)\n",
    "    i = f / h\n",
    "    \n",
    "    return i"
   ]
  },
  {
   "cell_type": "code",
   "execution_count": 179,
   "metadata": {},
   "outputs": [
    {
     "name": "stdout",
     "output_type": "stream",
     "text": [
      "[ 99.22222222 428.64444444] [[ 264.35061728 -212.54320988]\n",
      " [-212.54320988 1386.2291358 ]]\n",
      "[136.93333333 366.64444444] [[338.24       162.82074074]\n",
      " [162.82074074 712.85135802]]\n",
      "Canadian\n",
      "Alaskan\n",
      "Alaskan\n",
      "Canadian\n",
      "Alaskan\n",
      "Canadian\n",
      "Alaskan\n",
      "Canadian\n",
      "Alaskan\n",
      "Alaskan\n"
     ]
    }
   ],
   "source": [
    "alaskan = np.array(trainx[np.where(trainy<1)])\n",
    "canadian = np.array(trainx[np.where(trainy>0)])\n",
    "mu1,sigma1 = fit_gaussian(alaskan)\n",
    "mu2,sigma2 = fit_gaussian(canadian)\n",
    "print(mu1,sigma1)\n",
    "print(mu2,sigma2)\n",
    "for i in testx:\n",
    "    x = classify(i,mu1,sigma1)\n",
    "    y = classify(i,mu2,sigma2)\n",
    "    if x > y:\n",
    "        print(\"Alaskan\")\n",
    "    else:\n",
    "        print(\"Canadian\")\n"
   ]
  },
  {
   "cell_type": "code",
   "execution_count": null,
   "metadata": {},
   "outputs": [],
   "source": []
  },
  {
   "cell_type": "code",
   "execution_count": null,
   "metadata": {},
   "outputs": [],
   "source": []
  },
  {
   "cell_type": "code",
   "execution_count": null,
   "metadata": {},
   "outputs": [],
   "source": []
  }
 ],
 "metadata": {
  "kernelspec": {
   "display_name": "Python 3",
   "language": "python",
   "name": "python3"
  },
  "language_info": {
   "codemirror_mode": {
    "name": "ipython",
    "version": 3
   },
   "file_extension": ".py",
   "mimetype": "text/x-python",
   "name": "python",
   "nbconvert_exporter": "python",
   "pygments_lexer": "ipython3",
   "version": "3.7.5"
  },
  "toc": {
   "colors": {
    "hover_highlight": "#DAA520",
    "navigate_num": "#000000",
    "navigate_text": "#333333",
    "running_highlight": "#FF0000",
    "selected_highlight": "#FFD700",
    "sidebar_border": "#EEEEEE",
    "wrapper_background": "#FFFFFF"
   },
   "moveMenuLeft": true,
   "nav_menu": {
    "height": "12px",
    "width": "252px"
   },
   "navigate_menu": true,
   "number_sections": false,
   "sideBar": true,
   "threshold": 4,
   "toc_cell": false,
   "toc_section_display": "block",
   "toc_window_display": false,
   "widenNotebook": false
  }
 },
 "nbformat": 4,
 "nbformat_minor": 1
}
