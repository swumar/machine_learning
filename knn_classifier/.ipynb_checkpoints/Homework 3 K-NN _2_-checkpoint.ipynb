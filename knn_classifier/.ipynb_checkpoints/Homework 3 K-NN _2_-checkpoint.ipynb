{
 "cells": [
  {
   "cell_type": "markdown",
   "metadata": {},
   "source": [
    "# Using the K-NN algorithm for classification of iris\n",
    "\n",
    "In this assigment, you will classify if an Iris is 'Iris Setosa' or 'Iris Versicolour' or 'Iris Virginica' using the k nearest neighbor algorithm.\n",
    "\n",
    "The training data is from the UCI Machine Learning Repository: https://archive.ics.uci.edu/ml/datasets/iris.  Please download the dataset before running the code below. "
   ]
  },
  {
   "cell_type": "markdown",
   "metadata": {},
   "source": [
    "## Step 1:  Getting, understanding, and cleaning the dataset\n"
   ]
  },
  {
   "cell_type": "markdown",
   "metadata": {},
   "source": [
    "###  Importing the dataset\n"
   ]
  },
  {
   "cell_type": "code",
   "execution_count": 1,
   "metadata": {},
   "outputs": [
    {
     "data": {
      "text/html": [
       "<div>\n",
       "<style scoped>\n",
       "    .dataframe tbody tr th:only-of-type {\n",
       "        vertical-align: middle;\n",
       "    }\n",
       "\n",
       "    .dataframe tbody tr th {\n",
       "        vertical-align: top;\n",
       "    }\n",
       "\n",
       "    .dataframe thead th {\n",
       "        text-align: right;\n",
       "    }\n",
       "</style>\n",
       "<table border=\"1\" class=\"dataframe\">\n",
       "  <thead>\n",
       "    <tr style=\"text-align: right;\">\n",
       "      <th></th>\n",
       "      <th>sepal length[cm]</th>\n",
       "      <th>sepal width[cm]</th>\n",
       "      <th>petal length[cm]</th>\n",
       "      <th>petal width</th>\n",
       "      <th>label</th>\n",
       "    </tr>\n",
       "  </thead>\n",
       "  <tbody>\n",
       "    <tr>\n",
       "      <th>0</th>\n",
       "      <td>5.1</td>\n",
       "      <td>3.5</td>\n",
       "      <td>1.4</td>\n",
       "      <td>0.2</td>\n",
       "      <td>Iris-setosa</td>\n",
       "    </tr>\n",
       "    <tr>\n",
       "      <th>1</th>\n",
       "      <td>4.9</td>\n",
       "      <td>3.0</td>\n",
       "      <td>1.4</td>\n",
       "      <td>0.2</td>\n",
       "      <td>Iris-setosa</td>\n",
       "    </tr>\n",
       "    <tr>\n",
       "      <th>2</th>\n",
       "      <td>4.7</td>\n",
       "      <td>3.2</td>\n",
       "      <td>1.3</td>\n",
       "      <td>0.2</td>\n",
       "      <td>Iris-setosa</td>\n",
       "    </tr>\n",
       "    <tr>\n",
       "      <th>3</th>\n",
       "      <td>4.6</td>\n",
       "      <td>3.1</td>\n",
       "      <td>1.5</td>\n",
       "      <td>0.2</td>\n",
       "      <td>Iris-setosa</td>\n",
       "    </tr>\n",
       "    <tr>\n",
       "      <th>4</th>\n",
       "      <td>5.0</td>\n",
       "      <td>3.6</td>\n",
       "      <td>1.4</td>\n",
       "      <td>0.2</td>\n",
       "      <td>Iris-setosa</td>\n",
       "    </tr>\n",
       "  </tbody>\n",
       "</table>\n",
       "</div>"
      ],
      "text/plain": [
       "   sepal length[cm]  sepal width[cm]  petal length[cm]  petal width  \\\n",
       "0               5.1              3.5               1.4          0.2   \n",
       "1               4.9              3.0               1.4          0.2   \n",
       "2               4.7              3.2               1.3          0.2   \n",
       "3               4.6              3.1               1.5          0.2   \n",
       "4               5.0              3.6               1.4          0.2   \n",
       "\n",
       "         label  \n",
       "0  Iris-setosa  \n",
       "1  Iris-setosa  \n",
       "2  Iris-setosa  \n",
       "3  Iris-setosa  \n",
       "4  Iris-setosa  "
      ]
     },
     "execution_count": 1,
     "metadata": {},
     "output_type": "execute_result"
    }
   ],
   "source": [
    "# Import the usual libraries\n",
    "import matplotlib.pyplot as plt # plotting utilities \n",
    "%matplotlib inline\n",
    "import numpy as np \n",
    "import pandas as pd  # To read in the dataset we will use the Panda's library\n",
    "df = pd.read_csv('iris.csv', header=None, names = [\"sepal length[cm]\",\"sepal width[cm]\",\"petal length[cm]\", \"petal width\", \"label\"])\n",
    "\n",
    "# Next we observe the first 5 rows of the data to ensure everything was read correctly\n",
    "df.head()"
   ]
  },
  {
   "cell_type": "markdown",
   "metadata": {},
   "source": [
    "### Data preprocesssing\n",
    "It would be more convenient if the labels were integers instead of 'Iris-setosa', 'Iris-versicolor' and 'Iris-virginica'.  This way our code can always work with numerical values instead of strings."
   ]
  },
  {
   "cell_type": "code",
   "execution_count": 2,
   "metadata": {},
   "outputs": [
    {
     "data": {
      "text/html": [
       "<div>\n",
       "<style scoped>\n",
       "    .dataframe tbody tr th:only-of-type {\n",
       "        vertical-align: middle;\n",
       "    }\n",
       "\n",
       "    .dataframe tbody tr th {\n",
       "        vertical-align: top;\n",
       "    }\n",
       "\n",
       "    .dataframe thead th {\n",
       "        text-align: right;\n",
       "    }\n",
       "</style>\n",
       "<table border=\"1\" class=\"dataframe\">\n",
       "  <thead>\n",
       "    <tr style=\"text-align: right;\">\n",
       "      <th></th>\n",
       "      <th>sepal length[cm]</th>\n",
       "      <th>sepal width[cm]</th>\n",
       "      <th>petal length[cm]</th>\n",
       "      <th>petal width</th>\n",
       "      <th>label</th>\n",
       "    </tr>\n",
       "  </thead>\n",
       "  <tbody>\n",
       "    <tr>\n",
       "      <th>0</th>\n",
       "      <td>5.1</td>\n",
       "      <td>3.5</td>\n",
       "      <td>1.4</td>\n",
       "      <td>0.2</td>\n",
       "      <td>0</td>\n",
       "    </tr>\n",
       "    <tr>\n",
       "      <th>1</th>\n",
       "      <td>4.9</td>\n",
       "      <td>3.0</td>\n",
       "      <td>1.4</td>\n",
       "      <td>0.2</td>\n",
       "      <td>0</td>\n",
       "    </tr>\n",
       "    <tr>\n",
       "      <th>2</th>\n",
       "      <td>4.7</td>\n",
       "      <td>3.2</td>\n",
       "      <td>1.3</td>\n",
       "      <td>0.2</td>\n",
       "      <td>0</td>\n",
       "    </tr>\n",
       "    <tr>\n",
       "      <th>3</th>\n",
       "      <td>4.6</td>\n",
       "      <td>3.1</td>\n",
       "      <td>1.5</td>\n",
       "      <td>0.2</td>\n",
       "      <td>0</td>\n",
       "    </tr>\n",
       "    <tr>\n",
       "      <th>4</th>\n",
       "      <td>5.0</td>\n",
       "      <td>3.6</td>\n",
       "      <td>1.4</td>\n",
       "      <td>0.2</td>\n",
       "      <td>0</td>\n",
       "    </tr>\n",
       "  </tbody>\n",
       "</table>\n",
       "</div>"
      ],
      "text/plain": [
       "   sepal length[cm]  sepal width[cm]  petal length[cm]  petal width  label\n",
       "0               5.1              3.5               1.4          0.2      0\n",
       "1               4.9              3.0               1.4          0.2      0\n",
       "2               4.7              3.2               1.3          0.2      0\n",
       "3               4.6              3.1               1.5          0.2      0\n",
       "4               5.0              3.6               1.4          0.2      0"
      ]
     },
     "execution_count": 2,
     "metadata": {},
     "output_type": "execute_result"
    }
   ],
   "source": [
    "df['label'] = df.label.map({'Iris-setosa': 0,\n",
    "              'Iris-versicolor': 1,\n",
    "              'Iris-virginica': 2})\n",
    "df.head()# Again, lets observe the first 5 rows to make sure everything worked before we continue"
   ]
  },
  {
   "cell_type": "code",
   "execution_count": 3,
   "metadata": {},
   "outputs": [
    {
     "name": "stdout",
     "output_type": "stream",
     "text": [
      "The number of training examples:  112\n",
      "The number of test exampels:  38\n",
      "The first four training labels\n",
      "[1 1 2 0]\n",
      "The first four iris' measurements\n",
      "[[5.8 2.4]\n",
      " [6.  1. ]\n",
      " [5.5 0.2]\n",
      " [7.3 1.8]]\n"
     ]
    }
   ],
   "source": [
    "# This time we will use sklearn's method for seperating the data\n",
    "from sklearn.model_selection import train_test_split\n",
    "names = [\"sepal length[cm]\",\"petal width\"]\n",
    "#After completing the assignment, try your code with all the features\n",
    "#names = [\"sepal length[cm]\",\"sepal width[cm]\",\"petal length[cm]\", \"petal width\"]\n",
    "df_X_train, df_X_test, df_y_train, df_y_test = train_test_split(df[names],df['label'], random_state=0)\n",
    "\n",
    "X_train=df_X_train.to_numpy()\n",
    "X_test=df_X_test.to_numpy()\n",
    "y_train=df_y_train.to_numpy()\n",
    "y_test=df_y_test.to_numpy()\n",
    "\n",
    "#Looking at the train/test split\n",
    "print(\"The number of training examples: \", X_train.shape[0])\n",
    "print(\"The number of test exampels: \", X_test.shape[0])\n",
    "\n",
    "print(\"The first four training labels\")\n",
    "print(y_train[0:4])\n",
    "\n",
    "print(\"The first four iris' measurements\")\n",
    "print(X_test[0:4])"
   ]
  },
  {
   "cell_type": "markdown",
   "metadata": {},
   "source": [
    "## visualizing the data set\n",
    "\n",
    "Using a scatter plot to visualize the dataset"
   ]
  },
  {
   "cell_type": "code",
   "execution_count": 4,
   "metadata": {},
   "outputs": [
    {
     "data": {
      "image/png": "[encoded data removed]",
      "text/plain": [
       "<Figure size 432x288 with 1 Axes>"
      ]
     },
     "metadata": {
      "needs_background": "light"
     },
     "output_type": "display_data"
    }
   ],
   "source": [
    "iris_names=['Iris-setosa','Iris-versicolor','Iris-virginica']\n",
    "for i in range(0,3):\n",
    "    plt.scatter(X_train[y_train == i, 0],\n",
    "                X_train[y_train == i, 1],\n",
    "            marker='o',\n",
    "            label='class '+ str(i)+ ' '+ iris_names[i])\n",
    "\n",
    "plt.xlabel('sepal width[cm]')\n",
    "plt.ylabel('petal length[cm]')\n",
    "plt.legend(loc='lower right')\n",
    "\n",
    "plt.show()"
   ]
  },
  {
   "cell_type": "markdown",
   "metadata": {},
   "source": [
    "# Your code goes here"
   ]
  },
  {
   "cell_type": "code",
   "execution_count": 5,
   "metadata": {},
   "outputs": [],
   "source": [
    "def euclidean_distance(x1, x2):\n",
    "  #### TO-DO #####      \n",
    "        \n",
    "    return  np.sqrt((np.square(x1[0]-x2[0]))+(np.square(x1[1]-x2[1]))) \n",
    "  ##############\n",
    "def manhattan_distance(x1, x2):\n",
    "\n",
    "    return np.abs(x1[0]-x2[0]+x1[1]-x2[1])\n",
    "\n",
    "\n",
    "def nth_root(value, n_root):\n",
    "    root_value = 1 / float(n_root)\n",
    "    return round(Decimal(value) ** Decimal(root_value), 5)\n",
    "\n",
    "\n",
    "def minkowski_distance(x, y, p_value):\n",
    "    return nth_root(sum(pow(abs(a - b), p_value) for a, b in zip(x, y)), p_value)"
   ]
  },
  {
   "cell_type": "code",
   "execution_count": 6,
   "metadata": {},
   "outputs": [],
   "source": [
    "def get_neighbors( X_train, y_train, x_test, k, distance= euclidean_distance):\n",
    "  #### TO-DO #####  \n",
    "    y = list()\n",
    "    for i in range(len(X_train)):\n",
    "        y.append((X_train[i],euclidean_distance(X_train[i],x_test),y_train[i])) #change distance function here\n",
    "    y.sort(key = lambda x : [x[1],x[2]])\n",
    "    neighbors = y[0:k]\n",
    "\n",
    "  ##############\n",
    "    return neighbors"
   ]
  },
  {
   "cell_type": "code",
   "execution_count": 7,
   "metadata": {},
   "outputs": [
    {
     "name": "stdout",
     "output_type": "stream",
     "text": [
      "Examples classifed incorrectly:\n",
      "[6.1 1.4]\n",
      "Accuracy is: 97.36842105263158\n"
     ]
    }
   ],
   "source": [
    "  #### TO-DO ##### \n",
    "output = list()\n",
    "\n",
    "for i in X_test:\n",
    "\n",
    "    neighbors = get_neighbors(X_train, y_train, i, 5)  #insert k here\n",
    "    c = [list(t) for t in zip(*neighbors)][2]\n",
    "    output.append(max(c , key = c.count))\n",
    "\n",
    "print(\"Examples classifed incorrectly:\")\n",
    "error = 0\n",
    "\n",
    "for i in range(len(output)):\n",
    "    if output[i] != y_test[i]:\n",
    "        print(X_test[i])\n",
    "        error += 1\n",
    "\n",
    "print(\"Accuracy is:\",(((len(X_test)-error)/len(X_test))*100))\n",
    "\n",
    "#Accuracy for Zerp_R classifier\n",
    "\n",
    "# a = np.count_nonzero(y_test == 0)\n",
    "# b = np.count_nonzero(y_test == 1)\n",
    "# c = np.count_nonzero(y_test == 2)\n",
    "# print(a,b,c)"
   ]
  },
  {
   "cell_type": "code",
   "execution_count": null,
   "metadata": {},
   "outputs": [],
   "source": []
  }
 ],
 "metadata": {
  "kernelspec": {
   "display_name": "Python 3",
   "language": "python",
   "name": "python3"
  },
  "language_info": {
   "codemirror_mode": {
    "name": "ipython",
    "version": 3
   },
   "file_extension": ".py",
   "mimetype": "text/x-python",
   "name": "python",
   "nbconvert_exporter": "python",
   "pygments_lexer": "ipython3",
   "version": "3.7.7"
  }
 },
 "nbformat": 4,
 "nbformat_minor": 2
}
